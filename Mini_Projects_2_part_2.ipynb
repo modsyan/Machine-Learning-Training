{
  "nbformat": 4,
  "nbformat_minor": 0,
  "metadata": {
    "colab": {
      "name": "Mini_Projects_2/ part 2.ipynb",
      "provenance": [],
      "include_colab_link": true
    },
    "kernelspec": {
      "name": "python3",
      "display_name": "Python 3"
    }
  },
  "cells": [
    {
      "cell_type": "markdown",
      "metadata": {
        "id": "view-in-github",
        "colab_type": "text"
      },
      "source": [
        "<a href=\"https://colab.research.google.com/github/modsyan/Machine-Learning-Training/blob/main/Mini_Projects_2_part_2.ipynb\" target=\"_parent\"><img src=\"https://colab.research.google.com/assets/colab-badge.svg\" alt=\"Open In Colab\"/></a>"
      ]
    },
    {
      "cell_type": "markdown",
      "metadata": {
        "id": "c2sSEq3uSurn"
      },
      "source": [
        "# Files and Exceptions"
      ]
    },
    {
      "cell_type": "code",
      "metadata": {
        "id": "VppOUgyU_Auv",
        "colab": {
          "base_uri": "https://localhost:8080/"
        },
        "outputId": "20a2b28d-0c3b-4aed-b416-5e981bfc5b5e"
      },
      "source": [
        "from google.colab import drive\n",
        "drive.mount('/content/drive')"
      ],
      "execution_count": 1,
      "outputs": [
        {
          "output_type": "stream",
          "text": [
            "Mounted at /content/drive\n"
          ],
          "name": "stdout"
        }
      ]
    },
    {
      "cell_type": "markdown",
      "metadata": {
        "id": "qw2XyRs-TWIF"
      },
      "source": [
        "**8. Sum of Numbers** <br>\n",
        "Assume that a file containing a series of integers is named numbers.txt and exists on the Drive. Write a program that reads all of the numbers stored in the file and calculates their total.\n",
        "\n",
        "Find file here: <br>\n",
        "https://drive.google.com/file/d/1GaOURA7jp0NLvfaOfl4cCClKK_pv3q0r/view?usp=sharing"
      ]
    },
    {
      "cell_type": "code",
      "metadata": {
        "id": "92EStR9KSu8N",
        "colab": {
          "base_uri": "https://localhost:8080/"
        },
        "outputId": "b71ab1de-28ee-4ba2-a462-fdec9d52b58f"
      },
      "source": [
        "files = open(\"numbers.txt\", \"r\")\n",
        "\n",
        "calc  = 0 \n",
        "\n",
        "for no_as_str in files:\n",
        "\n",
        "  no_as_int = int(no_as_str)\n",
        "  calc += no_as_int\n",
        "\n",
        "print(f\"result is: {format(calc,',d')}\")\n"
      ],
      "execution_count": 12,
      "outputs": [
        {
          "output_type": "stream",
          "text": [
            "result is: 5,931,486,514\n"
          ],
          "name": "stdout"
        }
      ]
    },
    {
      "cell_type": "code",
      "metadata": {
        "id": "B7GImG_lSu-u",
        "colab": {
          "base_uri": "https://localhost:8080/"
        },
        "outputId": "d49417ed-feee-4432-e43a-b78326b42d99"
      },
      "source": [
        "fi = open(\"numbers.txt\", 'r')\n",
        "#print justttt 10 \n",
        "for i in range(0,10):\n",
        "  print(fi.readline(),end=\"\")\n"
      ],
      "execution_count": 23,
      "outputs": [
        {
          "output_type": "stream",
          "text": [
            "86850343\n",
            "88065952\n",
            "89381968\n",
            "89536251\n",
            "89714939\n",
            "89826424\n",
            "90124775\n",
            "90672109\n",
            "91408453\n",
            "92438737\n"
          ],
          "name": "stdout"
        }
      ]
    },
    {
      "cell_type": "markdown",
      "metadata": {
        "id": "gW0mWcdDVgK4"
      },
      "source": [
        "**9. Average of Numbers** <br>\n",
        "Assume that a file containing a series of integers is named numbers.txt and exists on the Drive. Write a program that calculates the average of all the numbers stored in\n",
        "the file"
      ]
    },
    {
      "cell_type": "code",
      "metadata": {
        "id": "3-DZx-vnSvCe",
        "colab": {
          "base_uri": "https://localhost:8080/"
        },
        "outputId": "56c28eab-b8ea-4f92-fc53-9b0cb7d65a5d"
      },
      "source": [
        "def main():\n",
        "  files = open(\"numbers.txt\", \"r\")\n",
        "\n",
        "  calc  = 0.0\n",
        "  avg = 0\n",
        "\n",
        "\n",
        "  for no_as_str in files:\n",
        "\n",
        "    no_as_int = int(no_as_str)\n",
        "\n",
        "    calc += no_as_int\n",
        "    avg += 1\n",
        "\n",
        "\n",
        "  result = calc / avg\n",
        "  print(f\"the average is: {format(result,',.2f')}\")\n",
        "\n",
        "\n",
        "main()"
      ],
      "execution_count": 9,
      "outputs": [
        {
          "output_type": "stream",
          "text": [
            "the average is: 102,267,008.86\n"
          ],
          "name": "stdout"
        }
      ]
    },
    {
      "cell_type": "markdown",
      "metadata": {
        "id": "vjchCYETVwPx"
      },
      "source": [
        "**10. Random Number File Writer**<br>\n",
        "Write a program that writes a series of random numbers to a file. Each random number should be in the range of 1 \n",
        "through 500. The application should let the user specify how\n",
        "many random numbers the file will hold.\n"
      ]
    },
    {
      "cell_type": "code",
      "metadata": {
        "id": "DCyba_BZVxLF",
        "colab": {
          "base_uri": "https://localhost:8080/"
        },
        "outputId": "f5023859-d138-4f1a-db62-41c8136b9002"
      },
      "source": [
        "import random\n",
        "def main():\n",
        "    #welcome\n",
        "  print(\"Welcome to Generator Random Number\")\n",
        "  print(\"Enter the Range of numbers\")\n",
        "    #ask user about range\n",
        "  start = int(input(\"From: \"))\n",
        "  end = int(input(\"To: \"))\n",
        "  many = int(input(\"How many numbers do you want in the file? \"))\n",
        "    #creat file\n",
        "  generator = open(\"gnerat.txt\", 'w')\n",
        "  for i in range(0,many+1):\n",
        "    no = random.randint(start,end)\n",
        "    \n",
        "    generator.write(str(no) + \"\\n\")\n",
        "\n",
        "  print(\"Successful, Your file has been saved in gnerat.txt\")\n",
        "\n",
        "main()\n",
        "\n",
        "\n",
        "\n"
      ],
      "execution_count": 19,
      "outputs": [
        {
          "output_type": "stream",
          "text": [
            "Welcome to Generator Random Number\n",
            "Enter the Range of numbers\n",
            "From: 16355613\n",
            "To: 6154833625\n",
            "How many numbers do you want in the file? 8000\n",
            "Successful, Your file has been saved in gnerat.txt\n"
          ],
          "name": "stdout"
        }
      ]
    },
    {
      "cell_type": "code",
      "metadata": {
        "id": "uZ7CQJM0VxN5",
        "colab": {
          "base_uri": "https://localhost:8080/"
        },
        "outputId": "8a7da65b-df5f-45d8-8661-9657b5954ad1"
      },
      "source": [
        ""
      ],
      "execution_count": 17,
      "outputs": [
        {
          "output_type": "execute_result",
          "data": {
            "text/plain": [
              "13"
            ]
          },
          "metadata": {
            "tags": []
          },
          "execution_count": 17
        }
      ]
    },
    {
      "cell_type": "markdown",
      "metadata": {
        "id": "p75ZKqbXWMdY"
      },
      "source": [
        "**11.  Exception Handing** <br>\n",
        "Modify the program that you wrote for Exercise 9 so it handles the following exceptions: <br>\n",
        "* It should handle any IOError exceptions that are raised when the file is opened and data\n",
        "is read from it. <br>\n",
        "* It should handle any ValueError exceptions that are raised when the items that are read from the file are converted to a number."
      ]
    },
    {
      "cell_type": "code",
      "metadata": {
        "id": "22SOHQbrVxRE"
      },
      "source": [
        "def main():\n",
        "  total = 0.0\n",
        "\n",
        "  try: \n",
        "    num_file = open('/content/drive/MyDrive/Tutorial 2.pdf', 'r')\n",
        "\n",
        "    total = 0.0\n",
        "    count = 0\n",
        "    \n",
        "    for line in  num_file:\n",
        "        run_time = float(line)\n",
        "        #print(run_time)\n",
        "        total += run_time\n",
        "        count += 1\n",
        "\n",
        "    print(count)    \n",
        "    num_file.close()\n",
        "    print('Total',total/count)\n",
        "\n",
        "\n",
        "  except IOError:\n",
        "    print('An error occured trying to read the file.')\n",
        "\n",
        "  except ValueError:\n",
        "    print('Non-numeric data found in the file.')\n",
        "\n",
        "\n",
        "main()"
      ],
      "execution_count": null,
      "outputs": []
    },
    {
      "cell_type": "code",
      "metadata": {
        "id": "3p0MENR_WrBV",
        "colab": {
          "base_uri": "https://localhost:8080/"
        },
        "outputId": "6e919426-1935-4bc6-8002-872f4076b370"
      },
      "source": [
        "def main():\n",
        "\n",
        "  calc  = 0.0\n",
        "  avg = 0\n",
        "  try:\n",
        "      files = open(\"numbers.txt\", \"r\")\n",
        "\n",
        "      for no_as_str in files:\n",
        "\n",
        "        no_as_int = int(no_as_str)\n",
        "\n",
        "        calc += no_as_int\n",
        "        avg += 1\n",
        "      result = calc / avg\n",
        "      print(f\"the average is: {format(result,',.2f')}\")\n",
        "\n",
        "  except IOError:\n",
        "      print('An error occured trying to read the file.')\n",
        "\n",
        "  except ValueError:\n",
        "    print('Non-numeric data found in the file.')\n",
        "\n",
        "\n",
        "main()"
      ],
      "execution_count": 20,
      "outputs": [
        {
          "output_type": "stream",
          "text": [
            "the average is: 102,267,008.86\n"
          ],
          "name": "stdout"
        }
      ]
    }
  ]
}