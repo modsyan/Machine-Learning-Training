{
  "nbformat": 4,
  "nbformat_minor": 0,
  "metadata": {
    "colab": {
      "name": "Exam2.ipynb",
      "provenance": [],
      "include_colab_link": true
    },
    "kernelspec": {
      "name": "python3",
      "display_name": "Python 3"
    },
    "language_info": {
      "name": "python"
    }
  },
  "cells": [
    {
      "cell_type": "markdown",
      "metadata": {
        "id": "view-in-github",
        "colab_type": "text"
      },
      "source": [
        "<a href=\"https://colab.research.google.com/github/modsyan/Machine-Learning-Training/blob/main/Exam2.ipynb\" target=\"_parent\"><img src=\"https://colab.research.google.com/assets/colab-badge.svg\" alt=\"Open In Colab\"/></a>"
      ]
    },
    {
      "cell_type": "markdown",
      "metadata": {
        "id": "5wXGR30b9re6"
      },
      "source": [
        "# Question 1\n",
        "Write a program that asks the user to enter the amount that he or she has budgeted for a month. A loop should then prompt the user to enter each of his or her expenses for the month and keep a running total. When the loop finishes, the program should display the amount that the user is over or under budget."
      ]
    },
    {
      "cell_type": "code",
      "metadata": {
        "id": "VqHLKlqN9orp",
        "colab": {
          "base_uri": "https://localhost:8080/"
        },
        "outputId": "65e9e633-64ca-4f39-8c76-09c208d1dbc4"
      },
      "source": [
        "def main():\n",
        "    total_budget = float(input(\"Enter the amount that you budgeted for a month:\"))\n",
        "    run = True\n",
        "    collector = 0.0\n",
        "    while run: \n",
        "        expenses = float(input(\"Enter Each Of Your Expenses For The Month: \"))\n",
        "        collector += expenses\n",
        "\n",
        "    #Stop Question\n",
        "        stop = input(\"Press Enter To Contiue ...\\n [E]Exit\")\n",
        "        if stop == \"E\" or stop == \"e\":\n",
        "            run = False\n",
        "    if total_budget >= expenses:\n",
        "\n",
        "        print(\"Good, you didnt spend the whole budget\")\n",
        "        print(f\"You still have:{total_budget - expenses}\")\n",
        "    else: \n",
        "        print(\"You have spent the set budget\")\n",
        "\n",
        "\n",
        "\n",
        "main()"
      ],
      "execution_count": 6,
      "outputs": [
        {
          "output_type": "stream",
          "text": [
            "Enter the amount that you budgeted for a month:14000\n",
            "Enter Each Of Your Expenses For The Month: 2000\n",
            "Press Enter To Contiue ...\n",
            " [E]Exit\n",
            "Enter Each Of Your Expenses For The Month: 200\n",
            "Press Enter To Contiue ...\n",
            " [E]Exit\n",
            "Enter Each Of Your Expenses For The Month: 500\n",
            "Press Enter To Contiue ...\n",
            " [E]Exit\n",
            "Enter Each Of Your Expenses For The Month: 9000\n",
            "Press Enter To Contiue ...\n",
            " [E]Exit\n",
            "Enter Each Of Your Expenses For The Month: 844\n",
            "Press Enter To Contiue ...\n",
            " [E]Exite\n",
            "Good, you didnt spend the whole budget\n",
            "You still have:13156.0\n"
          ],
          "name": "stdout"
        }
      ]
    },
    {
      "cell_type": "markdown",
      "metadata": {
        "id": "kGBuj9Rk-veL"
      },
      "source": [
        "# Question 2 \n",
        "Write a function named max that accepts two integer values as arguments and returns the\n",
        "value that is the greater of the two. For example, if 7 and 12 are passed as arguments to\n",
        "the function, the function should return 12. Use the function in a program that prompts the\n",
        "user to enter two integer values. The program should display the value that is the greater\n",
        "of the two."
      ]
    },
    {
      "cell_type": "code",
      "metadata": {
        "id": "3psMKiEQ-m6k",
        "colab": {
          "base_uri": "https://localhost:8080/"
        },
        "outputId": "0f02df85-30b9-4dc2-c8f3-11fc90bd801a"
      },
      "source": [
        "def main():\n",
        "    #call max function\n",
        "    fn_max = max()\n",
        "    \n",
        "    #just 3 statments\n",
        "    \n",
        "    #if max are False then the two numbers are equals \n",
        "    if fn_max:\n",
        "        print(f\"the Greatist is: {fn_max}\")\n",
        "    #if equals\n",
        "    else: \n",
        "        print(\"are equals\")\n",
        "\n",
        "def max():\n",
        "    #get the two numbers from user\n",
        "    num1 = input(\"Frist value: \")\n",
        "    num2 = input(\"Second value: \")\n",
        "\n",
        "    #just 3 statments\n",
        "    #grater than\n",
        "    if int(num1) > int(num2):\n",
        "        return num1\n",
        "    else:\n",
        "        #less than \n",
        "        if num1 < num2:\n",
        "            return num2\n",
        "        else:\n",
        "            #equals\n",
        "            return False\n",
        "main()\n",
        "\n"
      ],
      "execution_count": 18,
      "outputs": [
        {
          "output_type": "stream",
          "text": [
            "Frist value: 15\n",
            "Second value: 15\n",
            "are equals\n"
          ],
          "name": "stdout"
        }
      ]
    },
    {
      "cell_type": "markdown",
      "metadata": {
        "id": "2QJ4_LYe_QyM"
      },
      "source": [
        "# Question 3\n",
        "Write a program that asks the user for the name of a file. The program should display the\n",
        "contents of the file with each line preceded with a line number followed by a colon. The\n",
        "line numbering should start at 1."
      ]
    },
    {
      "cell_type": "code",
      "metadata": {
        "id": "z_9PEjmp_P7c",
        "colab": {
          "base_uri": "https://localhost:8080/"
        },
        "outputId": "fc04b6bc-d7e4-40f7-8317-348b7f49f383"
      },
      "source": [
        "LINES = 7\n",
        "def main():\n",
        "    #welcome msg\n",
        "    print(\"Welcome in file manger.\")\n",
        "\n",
        "    #creat New File by user\n",
        "    FileName = input(\"Enter File name: \")\n",
        "    FileName = FileName+\".txt\"\n",
        "\n",
        "    #Operation selected\n",
        "    opp = 3\n",
        "    while opp != 0:\n",
        "        opp = Opperation()\n",
        "        if opp == 1:\n",
        "            CreateFile(FileName)\n",
        "\n",
        "        elif opp == 2:\n",
        "            # try:\n",
        "            ReadFile(FileName)\n",
        "            # except: \n",
        "            #     print(\"Sorry, File not exixst\")\n",
        "            #     print(\"Please enter Correct File Name.\")\n",
        "\n",
        "def Opperation():\n",
        "\n",
        "\n",
        "\n",
        "    #Operation selection\n",
        "    print(\"[1] Write New File\")\n",
        "    print(\"[2] Read File\")\n",
        "    print(\"[0] Exit\")\n",
        "\n",
        "    #Return Operation\n",
        "    return (int(input(\"\")))\n",
        "\n",
        "#Create File Function\n",
        "def CreateFile(FileName):\n",
        "    #Choose Mode File\n",
        "    UserFile = open(FileName,'w')\n",
        "\n",
        "    #Numbring File\n",
        "    for i in range(0,LINES):\n",
        "        FileLines = input(f\"{i+1}: \")\n",
        "        UserFile.write(f\"{i+1}: {FileLines}\\n\")\n",
        "\n",
        "    #Close File \n",
        "    UserFile.close()\n",
        "\n",
        "#Read File Function\n",
        "def ReadFile(FileName):\n",
        "\n",
        "    #choose mode file\n",
        "    UserFile = open(FileName,'r')\n",
        "\n",
        "    #Read File\n",
        "    counter = 1\n",
        "    for line in UserFile:\n",
        "        print(line,end=\"\")\n",
        "\n",
        "\n",
        "    #Close File \n",
        "    UserFile.close()\n",
        "\n",
        "\n",
        "main()"
      ],
      "execution_count": 118,
      "outputs": [
        {
          "output_type": "stream",
          "text": [
            "Welcome in file manger.\n",
            "Enter File name: FileOne\n",
            "[1] Write New File\n",
            "[2] Read File\n",
            "[0] Exit\n",
            "1\n",
            "1: LineONe\n",
            "2: LineTwo\n",
            "3: LineThree\n",
            "4: Ho\n",
            "5: Hi\n",
            "6: Heyy\n",
            "7: Mozart\n",
            "[1] Write New File\n",
            "[2] Read File\n",
            "[0] Exit\n",
            "2\n",
            "1: LineONe\n",
            "2: LineTwo\n",
            "3: LineThree\n",
            "4: Ho\n",
            "5: Hi\n",
            "6: Heyy\n",
            "7: Mozart\n",
            "[1] Write New File\n",
            "[2] Read File\n",
            "[0] Exit\n",
            "0\n"
          ],
          "name": "stdout"
        }
      ]
    },
    {
      "cell_type": "markdown",
      "metadata": {
        "id": "mWPrmdWDAHJK"
      },
      "source": [
        "# Question 4\n",
        "Write a program that reads a string from the user containing a date in the form mm/dd/yyyy. It should print the date in the form March 12, 2014."
      ]
    },
    {
      "cell_type": "code",
      "metadata": {
        "id": "7o6o25d6AMDj",
        "colab": {
          "base_uri": "https://localhost:8080/"
        },
        "outputId": "61fe1012-6cea-4216-87a0-d08d1d3f031b"
      },
      "source": [
        "def main():\n",
        "    #welcome msg\n",
        "    welcome_msg()\n",
        "    #get date from user\n",
        "    date = input(\"Enter Date \\\"mm/dd/yyyy\\\": \")\n",
        "\n",
        "    #split date the given by user  \n",
        "    month = date[0:2]\n",
        "    day = date[3:5]\n",
        "    year = date[6:11]  \n",
        "\n",
        "    #Names of all monthes \n",
        "    Name_Monthes = (\"January\",\"February\",\"March\",\"April\",\"May\",\"June\",\"July\",\"August\",\"September\"\n",
        "                    ,\"October\",\"November\",\"December\")\n",
        "    \n",
        "    #loop to convert a month from number to name\n",
        "    for i in range(1,len(Name_Monthes)+1):\n",
        "        if int(month) == i:\n",
        "            MonthName = Name_Monthes[i-1]\n",
        "\n",
        "    #print last form \n",
        "    print(f\"{MonthName} {day},{year}\")\n",
        "\n",
        "#welcome msg \n",
        "def welcome_msg():\n",
        "    print(\"--------------------------------------\")\n",
        "    print(\"----Welcome in data form converter----\")\n",
        "    print(\"--------------------------------------\")\n",
        "    \n",
        "#call main function    \n",
        "main()"
      ],
      "execution_count": 96,
      "outputs": [
        {
          "output_type": "stream",
          "text": [
            "--------------------------------------\n",
            "----Welcome in data form converter----\n",
            "--------------------------------------\n",
            "Enter Date \"mm/dd/yyyy\": 09/12/2002\n",
            "September 12,2002\n"
          ],
          "name": "stdout"
        }
      ]
    },
    {
      "cell_type": "markdown",
      "metadata": {
        "id": "jSxraWwFqJ6b"
      },
      "source": [
        "# Question 5\n",
        "Write a class named Person with data attributes for a person’s name, address, and telephone number. Next, write a class named Customer that is a subclass of the Person class.\n",
        "The Customer class should have a data attribute for a customer number and a Boolean\n",
        "data attribute indicating whether the customer wishes to be on a mailing list. Demonstrate\n",
        "an instance of the Customer class in a simple program."
      ]
    },
    {
      "cell_type": "code",
      "metadata": {
        "id": "s5A4itpdA2K0"
      },
      "source": [
        "class Person:\n",
        "    def __init__(self, name, address, PhoneNumber):\n",
        "        self.name = name\n",
        "        self.address = address\n",
        "        self.PhoneNumber = PhoneNumber\n",
        "    \n",
        "    def setName(self, name):\n",
        "        self.name = name\n",
        "    def setAddress(self, address):\n",
        "        self.address = address\n",
        "    def setPhoneNumber(self, PhoneNumber):\n",
        "        self.PhoneNumber = PhoneNumber\n",
        "\n",
        "    def getName(self):\n",
        "        return self.name\n",
        "    def getAddress(self):\n",
        "        return self.address\n",
        "    def getPhoneNumber(self):\n",
        "        return self.PhoneNumber\n",
        "    \n",
        "    \n",
        "class Customer(Person):\n",
        "    def __init__ (self,name, address, PhoneNumber, Customer_Number, is IN_Mailing_List ):\n",
        "        Person. __init__(self, name, address, PhoneNumber)\n",
        "        self.Customer_Number = Customer_Number\n",
        "        self.IN_Mailing_List = IN_Mailing_List\n",
        "    \n",
        "    def set_Customer_Number(self, Customer_Number):\n",
        "        self.Customer_Number = Customer_Number\n",
        "    def set_IN_Mailing_List(self, IN_Mailing_List):\n",
        "        self.IN_Mailing_List = IN_Mailing_List\n",
        "\n",
        "    def get_Customer_Number(self):\n",
        "        return self.Customer_Number\n",
        "    def get__IN_Mailing_List(self):\n",
        "        return self.IN_Mailing_List\n",
        "\n",
        "    def __statue__(self):\n",
        "        if IN_Mailing_List:\n",
        "            mail = \"yes\"\n",
        "        else:\n",
        "            mail = \"no\"\n",
        "        return def state(self):\n",
        "        return \"Person’s name: \" + self.getName() + \", Address: \" + getAddress() + \", Telephone Number: \" + getPhoneNumber() + cus\n",
        "\n",
        "\n",
        "def main():\n",
        "    Muhammed = Customer(\"Muhammed Hamdy\", \"10 maahd-ahl-elsonna giza\", \"+996 0255 155\", \\\n",
        "                        1014, True)\n",
        "    \n",
        "    print(Muhammed)\n",
        "\n",
        "\n",
        "main()\n",
        "        \n",
        "        "
      ],
      "execution_count": 134,
      "outputs": []
    },
    {
      "cell_type": "code",
      "metadata": {
        "id": "WShbD0K3YXcq"
      },
      "source": [
        ""
      ],
      "execution_count": null,
      "outputs": []
    },
    {
      "cell_type": "markdown",
      "metadata": {
        "id": "Psab1ArBA2Yp"
      },
      "source": [
        "Once You finish Fill the Form: https://docs.google.com/forms/d/e/1FAIpQLSeu1EmFSSURi7TYZ7LvNQREvDEeGue6enxF2j_wy2mNU-q2xw/viewform?usp=sf_link"
      ]
    }
  ]
}