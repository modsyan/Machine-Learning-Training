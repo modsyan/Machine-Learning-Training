{
  "nbformat": 4,
  "nbformat_minor": 0,
  "metadata": {
    "colab": {
      "name": "Assignment1.ipynb",
      "provenance": [],
      "authorship_tag": "ABX9TyNJ2u3fQn+RU9Et9u4Aq7ka",
      "include_colab_link": true
    },
    "kernelspec": {
      "name": "python3",
      "display_name": "Python 3"
    },
    "language_info": {
      "name": "python"
    }
  },
  "cells": [
    {
      "cell_type": "markdown",
      "metadata": {
        "id": "view-in-github",
        "colab_type": "text"
      },
      "source": [
        "<a href=\"https://colab.research.google.com/github/modsyan/Machine-Learning-Training/blob/main/Assignment1.ipynb\" target=\"_parent\"><img src=\"https://colab.research.google.com/assets/colab-badge.svg\" alt=\"Open In Colab\"/></a>"
      ]
    },
    {
      "cell_type": "code",
      "metadata": {
        "colab": {
          "base_uri": "https://localhost:8080/"
        },
        "id": "gvBcbzuM-ntf",
        "outputId": "a9e81d52-ab67-4f37-8c9e-1440b1fd3412"
      },
      "source": [
        "len_1 = float(input(\"pls enter a Frist Lenght: \"))\n",
        "width_1 = float(input(\"pls enter a Frist Width: \"))\n",
        "\n",
        "area_1 = len_1 * width_1\n",
        "print(f\"The Area of first rectangle is: {area_1}\")\n",
        "print()\n",
        "\n",
        "\n",
        "len_2 = float(input(\"pls enter a Second Lenght: \"))\n",
        "width_2 = float(input(\"pls enter a Second Width:\"))\n",
        "area_2 = len_2 * width_2\n",
        "print(f\"The Area of second rectangle is: {area_2}\")\n",
        "print()\n",
        "\n",
        "result = \"Area 1 grater than Area 2\"\n",
        "if area_1 < area_2:\n",
        "    result = \"Area 2 grater than Area 1\"\n",
        "elif area_1 == area_2:\n",
        "    result = \"The two rectangles are equal\"\n",
        "print(f\"The result of the comparison is: {result}\")\n",
        "\n",
        "\n",
        "    \n",
        "\n",
        "  "
      ],
      "execution_count": 15,
      "outputs": [
        {
          "output_type": "stream",
          "text": [
            "pls enter a Frist Lenght: 12\n",
            "pls enter a Frist Width: 1\n",
            "The Area of first rectangle is: 12.0\n",
            "\n",
            "pls enter a Second Lenght: 12\n",
            "pls enter a Second Width:2\n",
            "The Area of second rectangle is: 24.0\n",
            "\n",
            "The result of the comparison is: Area 2 grater than Area 1\n"
          ],
          "name": "stdout"
        }
      ]
    }
  ]
}